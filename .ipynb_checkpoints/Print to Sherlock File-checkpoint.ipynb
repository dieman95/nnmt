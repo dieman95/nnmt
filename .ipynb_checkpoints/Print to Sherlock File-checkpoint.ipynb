{
 "cells": [
  {
   "cell_type": "markdown",
   "metadata": {},
   "source": [
    "### Create Sherlock File from matfile"
   ]
  },
  {
   "cell_type": "code",
   "execution_count": 1,
   "metadata": {},
   "outputs": [],
   "source": [
    "import numpy as np\n",
    "import os"
   ]
  },
  {
   "cell_type": "code",
   "execution_count": 4,
   "metadata": {},
   "outputs": [],
   "source": [
    "PATH=\"/home/musaup/Downloads/NeuralNetwork7_3.mat\""
   ]
  },
  {
   "cell_type": "code",
   "execution_count": 3,
   "metadata": {},
   "outputs": [],
   "source": [
    "def load_nn_mat_file(nn_source_dir,file_name):\n",
    "    import scipy.io as sio\n",
    "    import os\n",
    "    if(file_name.endswith(\".mat\")):\n",
    "        path=os.path.join(nn_source_dir,file_name)\n",
    "        mat_contents=sio.loadmat(path,squeeze_me=True)\n",
    "        del mat_contents['__header__']\n",
    "        del mat_contents['__version__']\n",
    "        del mat_contents['__globals__']\n",
    "        nn_info={}\n",
    "        network_weights=mat_contents['W']\n",
    "        network_biases=mat_contents['b']\n",
    "        del mat_contents['W']\n",
    "        del mat_contents['b']\n",
    "        for item in mat_contents.keys():\n",
    "            nn_info[item]=mat_contents[item]\n",
    "    else:\n",
    "        print(\"File specified is not a .mat file. Please check the directory path\")\n",
    "        return None\n",
    "    return nn_info, network_weights, network_biases"
   ]
  },
  {
   "cell_type": "code",
   "execution_count": 33,
   "metadata": {},
   "outputs": [],
   "source": [
    "nn_info, network_weights, network_biases=load_nn_mat_file('/home/musaup/Downloads','2L_pollution_nets_ready.mat')"
   ]
  },
  {
   "cell_type": "code",
   "execution_count": 37,
   "metadata": {},
   "outputs": [
    {
     "data": {
      "text/plain": [
       "2"
      ]
     },
     "execution_count": 37,
     "metadata": {},
     "output_type": "execute_result"
    }
   ],
   "source": [
    "len(network_weights[0].shape)"
   ]
  },
  {
   "cell_type": "code",
   "execution_count": 35,
   "metadata": {},
   "outputs": [
    {
     "data": {
      "text/plain": [
       "(3, 5)"
      ]
     },
     "execution_count": 35,
     "metadata": {},
     "output_type": "execute_result"
    }
   ],
   "source": [
    "network_weights[len(network_weights)-1].shape"
   ]
  },
  {
   "cell_type": "code",
   "execution_count": 36,
   "metadata": {},
   "outputs": [
    {
     "ename": "ValueError",
     "evalue": "cannot reshape array of size 8 into shape (3)",
     "output_type": "error",
     "traceback": [
      "\u001b[0;31m---------------------------------------------------------------------------\u001b[0m",
      "\u001b[0;31mValueError\u001b[0m                                Traceback (most recent call last)",
      "\u001b[0;32m<ipython-input-36-fcf3935418b1>\u001b[0m in \u001b[0;36m<module>\u001b[0;34m()\u001b[0m\n\u001b[0;32m----> 1\u001b[0;31m \u001b[0mgg\u001b[0m\u001b[0;34m=\u001b[0m\u001b[0mnetwork_biases\u001b[0m\u001b[0;34m[\u001b[0m\u001b[0;36m0\u001b[0m\u001b[0;34m]\u001b[0m\u001b[0;34m.\u001b[0m\u001b[0mreshape\u001b[0m\u001b[0;34m(\u001b[0m\u001b[0;34m-\u001b[0m\u001b[0;36m1\u001b[0m\u001b[0;34m,\u001b[0m\u001b[0mnp\u001b[0m\u001b[0;34m.\u001b[0m\u001b[0msize\u001b[0m\u001b[0;34m(\u001b[0m\u001b[0mnetwork_biases\u001b[0m\u001b[0;34m)\u001b[0m\u001b[0;34m)\u001b[0m\u001b[0;34m\u001b[0m\u001b[0m\n\u001b[0m\u001b[1;32m      2\u001b[0m \u001b[0mgg\u001b[0m\u001b[0;34m.\u001b[0m\u001b[0mshape\u001b[0m\u001b[0;34m\u001b[0m\u001b[0m\n",
      "\u001b[0;31mValueError\u001b[0m: cannot reshape array of size 8 into shape (3)"
     ]
    }
   ],
   "source": [
    "gg=network_biases[0].reshape(-1,np.size(network_biases))\n",
    "gg.shape"
   ]
  },
  {
   "cell_type": "code",
   "execution_count": null,
   "metadata": {},
   "outputs": [],
   "source": []
  },
  {
   "cell_type": "code",
   "execution_count": 11,
   "metadata": {},
   "outputs": [
    {
     "data": {
      "text/plain": [
       "array([-1.65777807, -0.42031465, -1.878918  ,  0.26349022, -2.42948357,\n",
       "       -0.52866133,  2.71314475])"
      ]
     },
     "execution_count": 11,
     "metadata": {},
     "output_type": "execute_result"
    }
   ],
   "source": [
    "network_biases[0]"
   ]
  },
  {
   "cell_type": "code",
   "execution_count": 12,
   "metadata": {},
   "outputs": [],
   "source": [
    "file = open('/home/musaup/Documents/Research/sherlock.txt','w') "
   ]
  },
  {
   "cell_type": "code",
   "execution_count": 71,
   "metadata": {},
   "outputs": [
    {
     "data": {
      "text/plain": [
       "array([-1.65777807, -0.42031465, -1.878918  ,  0.26349022, -2.42948357,\n",
       "       -0.52866133,  2.71314475])"
      ]
     },
     "execution_count": 71,
     "metadata": {},
     "output_type": "execute_result"
    }
   ],
   "source": [
    "network_biases[0]"
   ]
  },
  {
   "cell_type": "code",
   "execution_count": 38,
   "metadata": {},
   "outputs": [],
   "source": [
    "def create_sherlock_file(source_dir,sourcefile, destination, filename):\n",
    "    nn_info, network_weights, network_biases=load_nn_mat_file(source_dir,sourcefile)\n",
    "    file=open(os.path.join(destination,filename)+'.txt','w')\n",
    "    numberOfInputs=network_weights[0].shape[1]\n",
    "    numberOfLayers=len(network_weights)-1\n",
    "    if(len(network_weights[len(network_weights)-1].shape)>1):\n",
    "        numberOfOutputs=network_weights[len(network_weights)-1].shape[0]\n",
    "    else:\n",
    "        numberOfOutputs=1\n",
    "    file.write(str(numberOfInputs)+'\\n')\n",
    "    file.write(str(numberOfOutputs)+'\\n')\n",
    "    file.write(str(numberOfLayers)+'\\n')\n",
    "    for item in range(0,numberOfLayers):\n",
    "        file.write(str(network_weights[item].shape[0])+'\\n')\n",
    "    #for item in range(0,numberOfLayers-1):\n",
    "        #print(network_weights[item].shape[0])\n",
    "    for layer in range(0,numberOfLayers):\n",
    "        for row in range(0,len(network_weights[layer])):\n",
    "            if(np.isscalar(network_weights[layer][row])):\n",
    "                length=1\n",
    "                for weight in range(0,length):\n",
    "                    file.write(str(network_weights[layer][row])+'\\n')\n",
    "                file.write(str(network_biases[layer])+'\\n')\n",
    "            else:\n",
    "                length=len(network_weights[layer][row])\n",
    "                for weight in range(0,length):\n",
    "                    file.write(str(network_weights[layer][row][weight])+'\\n')\n",
    "                file.write(str(network_biases[layer][row])+'\\n')\n",
    "    file.close()\n",
    "            \n",
    "        \n",
    "    "
   ]
  },
  {
   "cell_type": "code",
   "execution_count": 39,
   "metadata": {},
   "outputs": [],
   "source": [
    "PATH=\"/home/musaup/Documents/Research/Examples\"\n",
    "sourcefile='1L_abalone_nets_ready.mat'\n",
    "DEST='/home/musaup/Documents/Research/Examples'    \n",
    "create_sherlock_file(PATH,sourcefile,DEST,'1L_abalone_nets_ready')"
   ]
  },
  {
   "cell_type": "code",
   "execution_count": 49,
   "metadata": {},
   "outputs": [
    {
     "data": {
      "text/plain": [
       "array([[-2.23267186, -0.54702192,  0.48569948],\n",
       "       [-1.55805817,  1.76128243, -0.53598228],\n",
       "       [ 1.7777791 , -0.60650664, -0.9761681 ]])"
      ]
     },
     "execution_count": 49,
     "metadata": {},
     "output_type": "execute_result"
    }
   ],
   "source": [
    "network_weights[0][1:4]"
   ]
  },
  {
   "cell_type": "code",
   "execution_count": null,
   "metadata": {},
   "outputs": [],
   "source": []
  }
 ],
 "metadata": {
  "kernelspec": {
   "display_name": "Python 2",
   "language": "python",
   "name": "python2"
  },
  "language_info": {
   "codemirror_mode": {
    "name": "ipython",
    "version": 2
   },
   "file_extension": ".py",
   "mimetype": "text/x-python",
   "name": "python",
   "nbconvert_exporter": "python",
   "pygments_lexer": "ipython2",
   "version": "2.7.15"
  }
 },
 "nbformat": 4,
 "nbformat_minor": 2
}
