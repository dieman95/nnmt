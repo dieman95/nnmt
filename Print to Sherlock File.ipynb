{
 "cells": [
  {
   "cell_type": "markdown",
   "metadata": {},
   "source": [
    "### Create Sherlock File from matfile"
   ]
  },
  {
   "cell_type": "code",
   "execution_count": 3,
   "metadata": {},
   "outputs": [],
   "source": [
    "import numpy as np\n",
    "import os"
   ]
  },
  {
   "cell_type": "code",
   "execution_count": 4,
   "metadata": {},
   "outputs": [],
   "source": [
    "PATH=\"/home/musaup/Downloads/NeuralNetwork7_3.mat\""
   ]
  },
  {
   "cell_type": "code",
   "execution_count": 5,
   "metadata": {},
   "outputs": [],
   "source": [
    "def load_nn_mat_file(nn_source_dir,file_name):\n",
    "    import scipy.io as sio\n",
    "    import os\n",
    "    if(file_name.endswith(\".mat\")):\n",
    "        path=os.path.join(nn_source_dir,file_name)\n",
    "        mat_contents=sio.loadmat(path,squeeze_me=True)\n",
    "        del mat_contents['__header__']\n",
    "        del mat_contents['__version__']\n",
    "        del mat_contents['__globals__']\n",
    "        nn_info={}\n",
    "        network_weights=mat_contents['W']\n",
    "        network_biases=mat_contents['b']\n",
    "        del mat_contents['W']\n",
    "        del mat_contents['b']\n",
    "        for item in mat_contents.keys():\n",
    "            nn_info[item]=mat_contents[item]\n",
    "    else:\n",
    "        print(\"File specified is not a .mat file. Please check the directory path\")\n",
    "        return None\n",
    "    return nn_info, network_weights, network_biases"
   ]
  },
  {
   "cell_type": "code",
   "execution_count": 7,
   "metadata": {},
   "outputs": [],
   "source": [
    "nn_info, network_weights, network_biases=load_nn_mat_file('/home/musaup/Downloads','NeuralNetwork7_3.mat')"
   ]
  },
  {
   "cell_type": "code",
   "execution_count": 33,
   "metadata": {},
   "outputs": [
    {
     "data": {
      "text/plain": [
       "(2, 7)"
      ]
     },
     "execution_count": 33,
     "metadata": {},
     "output_type": "execute_result"
    }
   ],
   "source": [
    "network_weights[7].shape"
   ]
  },
  {
   "cell_type": "code",
   "execution_count": 9,
   "metadata": {},
   "outputs": [
    {
     "data": {
      "text/plain": [
       "array([array([-1.65777807, -0.42031465, -1.878918  ,  0.26349022, -2.42948357,\n",
       "       -0.52866133,  2.71314475]),\n",
       "       array([ 1.73961725,  0.96154161,  0.27516898,  1.23075651,  0.49898044,\n",
       "        1.08298651, -1.19933006]),\n",
       "       array([-1.66536974,  0.19819551,  2.08863383, -0.49908468, -0.59362813,\n",
       "       -1.05973936,  0.38393256]),\n",
       "       array([-0.6781979 , -1.08362035, -0.63793228,  2.45161022,  0.09794752,\n",
       "        0.14564606, -0.51656124]),\n",
       "       array([-0.4366133 ,  0.50735753,  0.25836082,  0.57519252, -0.21806075,\n",
       "       -0.58741641, -0.25165288]),\n",
       "       array([ 1.70569624, -1.01138053,  0.21329293,  1.29031081, -0.01182289,\n",
       "        1.27309308,  0.42802656]),\n",
       "       array([ 0.34645532, -1.32114763,  1.31073279, -2.9799614 ,  0.12145654,\n",
       "        0.84859308, -1.04093185]),\n",
       "       array([-1.34736256, -0.50408875])], dtype=object)"
      ]
     },
     "execution_count": 9,
     "metadata": {},
     "output_type": "execute_result"
    }
   ],
   "source": [
    "network_biases"
   ]
  },
  {
   "cell_type": "code",
   "execution_count": 10,
   "metadata": {},
   "outputs": [
    {
     "data": {
      "text/plain": [
       "(8,)"
      ]
     },
     "execution_count": 10,
     "metadata": {},
     "output_type": "execute_result"
    }
   ],
   "source": [
    "network_biases.shape"
   ]
  },
  {
   "cell_type": "code",
   "execution_count": 11,
   "metadata": {},
   "outputs": [
    {
     "data": {
      "text/plain": [
       "array([-1.65777807, -0.42031465, -1.878918  ,  0.26349022, -2.42948357,\n",
       "       -0.52866133,  2.71314475])"
      ]
     },
     "execution_count": 11,
     "metadata": {},
     "output_type": "execute_result"
    }
   ],
   "source": [
    "network_biases[0]"
   ]
  },
  {
   "cell_type": "code",
   "execution_count": 12,
   "metadata": {},
   "outputs": [],
   "source": [
    "file = open('/home/musaup/Documents/Research/sherlock.txt','w') "
   ]
  },
  {
   "cell_type": "code",
   "execution_count": 71,
   "metadata": {},
   "outputs": [
    {
     "data": {
      "text/plain": [
       "array([-1.65777807, -0.42031465, -1.878918  ,  0.26349022, -2.42948357,\n",
       "       -0.52866133,  2.71314475])"
      ]
     },
     "execution_count": 71,
     "metadata": {},
     "output_type": "execute_result"
    }
   ],
   "source": [
    "network_biases[0]"
   ]
  },
  {
   "cell_type": "code",
   "execution_count": 89,
   "metadata": {},
   "outputs": [],
   "source": [
    "def create_sherlock_file(source_dir,sourcefile, destination, filename):\n",
    "    nn_info, network_weights, network_biases=load_nn_mat_file(source_dir,sourcefile)\n",
    "    file=open(os.path.join(destination,filename)+'.txt','w')\n",
    "    numberOfInputs=network_weights[0].shape[1]\n",
    "    numberOfLayers=len(network_weights)\n",
    "    numberOfOutputs=network_weights[len(network_weights)-1].shape[0]\n",
    "    file.write(str(numberOfInputs)+'\\n')\n",
    "    file.write(str(numberOfOutputs)+'\\n')\n",
    "    file.write(str(numberOfLayers)+'\\n')\n",
    "    for item in range(0,numberOfLayers):\n",
    "        file.write(str(network_weights[item].shape[0])+'\\n')\n",
    "    #for item in range(0,numberOfLayers-1):\n",
    "        #print(network_weights[item].shape[0])\n",
    "    for layer in range(0,numberOfLayers):\n",
    "        for row in range(0,len(network_weights[layer])):\n",
    "            for weight in range(0,len(network_weights[layer][row])):\n",
    "                file.write(str(network_weights[layer][row][weight])+'\\n')\n",
    "            file.write(str(network_biases[layer][row])+'\\n')\n",
    "    file.close()\n",
    "            \n",
    "        \n",
    "    "
   ]
  },
  {
   "cell_type": "code",
   "execution_count": 88,
   "metadata": {},
   "outputs": [],
   "source": [
    "PATH=\"/home/musaup/Downloads\"\n",
    "sourcefile='NeuralNetwork7_3.mat'\n",
    "DEST='/home/musaup/Documents/Research'\n",
    "create_sherlock_file(PATH,sourcefile,DEST,'sherlock_1')"
   ]
  },
  {
   "cell_type": "code",
   "execution_count": 49,
   "metadata": {},
   "outputs": [
    {
     "data": {
      "text/plain": [
       "array([[-2.23267186, -0.54702192,  0.48569948],\n",
       "       [-1.55805817,  1.76128243, -0.53598228],\n",
       "       [ 1.7777791 , -0.60650664, -0.9761681 ]])"
      ]
     },
     "execution_count": 49,
     "metadata": {},
     "output_type": "execute_result"
    }
   ],
   "source": [
    "network_weights[0][1:4]"
   ]
  },
  {
   "cell_type": "code",
   "execution_count": null,
   "metadata": {},
   "outputs": [],
   "source": []
  }
 ],
 "metadata": {
  "kernelspec": {
   "display_name": "Python 2",
   "language": "python",
   "name": "python2"
  },
  "language_info": {
   "codemirror_mode": {
    "name": "ipython",
    "version": 2
   },
   "file_extension": ".py",
   "mimetype": "text/x-python",
   "name": "python",
   "nbconvert_exporter": "python",
   "pygments_lexer": "ipython2",
   "version": "2.7.15"
  }
 },
 "nbformat": 4,
 "nbformat_minor": 2
}
