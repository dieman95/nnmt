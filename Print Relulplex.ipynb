{
 "cells": [
  {
   "cell_type": "markdown",
   "metadata": {},
   "source": [
    "### Print to Reluplex"
   ]
  },
  {
   "cell_type": "code",
   "execution_count": 3,
   "metadata": {},
   "outputs": [],
   "source": [
    "import numpy as np\n",
    "import os\n",
    "\n",
    "RootDirectory=\"/home/musaup/Downloads/\"\n",
    "FileName=\"NeuralNetwork7_3.mat\""
   ]
  },
  {
   "cell_type": "code",
   "execution_count": 4,
   "metadata": {},
   "outputs": [],
   "source": [
    "def load_nn_mat_file(nn_source_dir,file_name):\n",
    "    import scipy.io as sio\n",
    "    import os\n",
    "    if(file_name.endswith(\".mat\")):\n",
    "        path=os.path.join(nn_source_dir,file_name)\n",
    "        mat_contents=sio.loadmat(path,squeeze_me=True)\n",
    "        del mat_contents['__header__']\n",
    "        del mat_contents['__version__']\n",
    "        del mat_contents['__globals__']\n",
    "        nn_info={}\n",
    "        network_weights=mat_contents['W']\n",
    "        network_biases=mat_contents['b']\n",
    "        del mat_contents['W']\n",
    "        del mat_contents['b']\n",
    "        for item in mat_contents.keys():\n",
    "            nn_info[item]=mat_contents[item]\n",
    "    else:\n",
    "        print(\"File specified is not a .mat file. Please check the directory path\")\n",
    "        return None\n",
    "    return nn_info, network_weights, network_biases"
   ]
  },
  {
   "cell_type": "code",
   "execution_count": 17,
   "metadata": {},
   "outputs": [],
   "source": [
    "nn_info, network_weights, network_biases=load_nn_mat_file(RootDirectory,FileName)"
   ]
  },
  {
   "cell_type": "code",
   "execution_count": 23,
   "metadata": {},
   "outputs": [
    {
     "data": {
      "text/plain": [
       "0.9615416074061882"
      ]
     },
     "execution_count": 23,
     "metadata": {},
     "output_type": "execute_result"
    }
   ],
   "source": [
    "network_biases[1][1]"
   ]
  },
  {
   "cell_type": "code",
   "execution_count": 10,
   "metadata": {},
   "outputs": [],
   "source": [
    "def create_reluplex(source_dir,sourcefile, destination, filename):\n",
    "    path1=os.path.join(source_dir,sourcefile)\n",
    "    path2=os.path.join(destination,filename)\n",
    "    if(os.path.exists(path2)):\n",
    "        print(\"The file you are trying to create already exists, please enter a new name\")\n",
    "        return \"Try Again\"\n",
    "    else:\n",
    "        if(not(os.path.exists(path1))):\n",
    "            print(\"The source file you specified does not exist\")\n",
    "            return \"Try Again\"\n",
    "        else:\n",
    "            nn_info, network_weights, network_biases=load_nn_mat_file(source_dir,sourcefile)\n",
    "            file=open(os.path.join(destination,filename)+'.nnet','w')\n",
    "            commentLine1='// The contents of this file are licensed under the Creative Commons\\n'\n",
    "            commentLine2='// Attribution 4.0 International License: https://creativecommons.org/licenses/by/4.0/\\n'\n",
    "            commentLine3='// Neural Network File Format by Kyle Julian, Stanford 2016\\n'\n",
    "            file.write(commentLine1)\n",
    "            file.write(commentLine2)\n",
    "            file.write(commentLine3)\n",
    "            numberOfInputs=network_weights[0].shape[1]\n",
    "            numberOfLayers=len(network_weights)\n",
    "            numberOfOutputs=network_weights[len(network_weights)-1].shape[0]\n",
    "            layerSizes=[numberOfInputs]\n",
    "            for layer in range(0,len(network_weights)):\n",
    "                layerSizes.append(network_weights[layer].shape[0])\n",
    "            maxDimension=max(layerSizes)\n",
    "            #print (layerSizes)\n",
    "            firstline=str(numberOfLayers)+\",\"+str(numberOfInputs)+\",\"+str(numberOfOutputs)+\",\"+str(maxDimension)+\",\\n\"\n",
    "            file.write(firstline)\n",
    "            secondline=''\n",
    "            for layer in layerSizes:\n",
    "                secondline=secondline+str(layer)+\",\"\n",
    "            secondline=secondline+\"\\n\"\n",
    "            file.write(secondline)\n",
    "            symmetric='0,'\n",
    "            file.write(symmetric+\"\\n\")\n",
    "            for layer in range(0,numberOfLayers):\n",
    "                for row in range(0, len(network_weights[layer])):\n",
    "                    line=''\n",
    "                    for weight in range(0,len(network_weights[layer][row])):\n",
    "                        line=line+str(network_weights[layer][row][weight])+','\n",
    "                    file.write(line+'\\n')\n",
    "                for row in range(0, len(network_biases[layer])):\n",
    "                    file.write(str(network_biases[layer][row])+',\\n')    "
   ]
  },
  {
   "cell_type": "code",
   "execution_count": 9,
   "metadata": {},
   "outputs": [],
   "source": [
    "dest='/home/musaup/Documents/Research'\n",
    "file_name='Neural_Network7_3'\n",
    "create_reluplex(RootDirectory, FileName,dest,file_name)"
   ]
  },
  {
   "cell_type": "code",
   "execution_count": null,
   "metadata": {},
   "outputs": [],
   "source": [
    "max([3, 7, 7, 7, 7, 7, 7, 7, 2])"
   ]
  },
  {
   "cell_type": "code",
   "execution_count": null,
   "metadata": {},
   "outputs": [],
   "source": []
  }
 ],
 "metadata": {
  "kernelspec": {
   "display_name": "Python 2",
   "language": "python",
   "name": "python2"
  },
  "language_info": {
   "codemirror_mode": {
    "name": "ipython",
    "version": 2
   },
   "file_extension": ".py",
   "mimetype": "text/x-python",
   "name": "python",
   "nbconvert_exporter": "python",
   "pygments_lexer": "ipython2",
   "version": "2.7.15"
  }
 },
 "nbformat": 4,
 "nbformat_minor": 2
}
